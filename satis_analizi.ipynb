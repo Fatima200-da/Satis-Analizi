{
 "cells": [
  {
   "cell_type": "code",
   "execution_count": 1,
   "id": "6c7954b2-4151-4ba7-b594-a609c1785d61",
   "metadata": {},
   "outputs": [
    {
     "name": "stdout",
     "output_type": "stream",
     "text": [
      "CSV faylı yaradıldı!\n"
     ]
    }
   ],
   "source": [
    "import pandas as pd\n",
    "\n",
    "# Data yarat\n",
    "data = {\n",
    "    'tarix': ['2024-01-01', '2024-01-01', '2024-01-02', '2024-01-02', '2024-01-03'],\n",
    "    'mehsul': ['Laptop', 'Telefon', 'Planset', 'Laptop', 'Telefon'],\n",
    "    'miqdar': [2, 5, 3, 1, 4],\n",
    "    'qiymet': [1500, 800, 600, 1500, 800],\n",
    "    'bolge': ['Baki', 'Gence', 'Baki', 'Sumqayit', 'Gence']\n",
    "}\n",
    "\n",
    "df = pd.DataFrame(data)\n",
    "\n",
    "# CSV kimi saxla (kompyuterində fayl olaraq)\n",
    "df.to_csv('satislar.csv', index=False)\n",
    "\n",
    "print(\"CSV faylı yaradıldı!\")\n"
   ]
  },
  {
   "cell_type": "code",
   "execution_count": 2,
   "id": "6f8c678a-ee57-49c6-bf17-2fc069cf864d",
   "metadata": {},
   "outputs": [
    {
     "name": "stdout",
     "output_type": "stream",
     "text": [
      "        tarix   mehsul  miqdar  qiymet     bolge\n",
      "0  2024-01-01   Laptop       2    1500      Baki\n",
      "1  2024-01-01  Telefon       5     800     Gence\n",
      "2  2024-01-02  Planset       3     600      Baki\n",
      "3  2024-01-02   Laptop       1    1500  Sumqayit\n",
      "4  2024-01-03  Telefon       4     800     Gence\n"
     ]
    }
   ],
   "source": [
    "df = pd.read_csv('satislar.csv')\n",
    "print(df.head())\n"
   ]
  },
  {
   "cell_type": "code",
   "execution_count": 3,
   "id": "b8f2eb8c-b534-4c96-a020-833f44115dc0",
   "metadata": {},
   "outputs": [
    {
     "name": "stdout",
     "output_type": "stream",
     "text": [
      "        tarix   mehsul  miqdar  qiymet     bolge\n",
      "0  2024-01-01   Laptop       2    1500      Baki\n",
      "1  2024-01-01  Telefon       5     800     Gence\n",
      "2  2024-01-02  Planset       3     600      Baki\n",
      "3  2024-01-02   Laptop       1    1500  Sumqayit\n",
      "4  2024-01-03  Telefon       4     800     Gence\n"
     ]
    }
   ],
   "source": [
    "import pandas as pd\n",
    "\n",
    "# Faylı oxuyuruq\n",
    "df = pd.read_csv('satislar.csv')\n",
    "\n",
    "# İlk 5 sətri göstər\n",
    "print(df.head())\n"
   ]
  },
  {
   "cell_type": "code",
   "execution_count": 4,
   "id": "949a133a-f22c-4944-bf89-651b0de90a1d",
   "metadata": {},
   "outputs": [
    {
     "data": {
      "text/plain": [
       "mehsul\n",
       "Laptop     2\n",
       "Telefon    2\n",
       "Planset    1\n",
       "Name: count, dtype: int64"
      ]
     },
     "execution_count": 4,
     "metadata": {},
     "output_type": "execute_result"
    }
   ],
   "source": [
    "# Ən çox satılan məhsul hansıdır?\n",
    "df['mehsul'].value_counts()"
   ]
  },
  {
   "cell_type": "code",
   "execution_count": 5,
   "id": "5178ea60-12a3-468f-a5df-7a69ec6ae498",
   "metadata": {},
   "outputs": [
    {
     "data": {
      "text/plain": [
       "mehsul\n",
       "Laptop     3\n",
       "Planset    3\n",
       "Telefon    9\n",
       "Name: miqdar, dtype: int64"
      ]
     },
     "execution_count": 5,
     "metadata": {},
     "output_type": "execute_result"
    }
   ],
   "source": [
    "#Hər məhsuldan neçə ədəd satılıb?\n",
    "df.groupby('mehsul')['miqdar'].sum()"
   ]
  },
  {
   "cell_type": "code",
   "execution_count": 6,
   "id": "7c36abae-5448-4ac5-8d35-395db4f7d669",
   "metadata": {},
   "outputs": [
    {
     "data": {
      "text/html": [
       "<div>\n",
       "<style scoped>\n",
       "    .dataframe tbody tr th:only-of-type {\n",
       "        vertical-align: middle;\n",
       "    }\n",
       "\n",
       "    .dataframe tbody tr th {\n",
       "        vertical-align: top;\n",
       "    }\n",
       "\n",
       "    .dataframe thead th {\n",
       "        text-align: right;\n",
       "    }\n",
       "</style>\n",
       "<table border=\"1\" class=\"dataframe\">\n",
       "  <thead>\n",
       "    <tr style=\"text-align: right;\">\n",
       "      <th></th>\n",
       "      <th>mehsul</th>\n",
       "      <th>gelir</th>\n",
       "    </tr>\n",
       "  </thead>\n",
       "  <tbody>\n",
       "    <tr>\n",
       "      <th>0</th>\n",
       "      <td>Laptop</td>\n",
       "      <td>3000</td>\n",
       "    </tr>\n",
       "    <tr>\n",
       "      <th>1</th>\n",
       "      <td>Telefon</td>\n",
       "      <td>4000</td>\n",
       "    </tr>\n",
       "    <tr>\n",
       "      <th>2</th>\n",
       "      <td>Planset</td>\n",
       "      <td>1800</td>\n",
       "    </tr>\n",
       "    <tr>\n",
       "      <th>3</th>\n",
       "      <td>Laptop</td>\n",
       "      <td>1500</td>\n",
       "    </tr>\n",
       "    <tr>\n",
       "      <th>4</th>\n",
       "      <td>Telefon</td>\n",
       "      <td>3200</td>\n",
       "    </tr>\n",
       "  </tbody>\n",
       "</table>\n",
       "</div>"
      ],
      "text/plain": [
       "    mehsul  gelir\n",
       "0   Laptop   3000\n",
       "1  Telefon   4000\n",
       "2  Planset   1800\n",
       "3   Laptop   1500\n",
       "4  Telefon   3200"
      ]
     },
     "execution_count": 6,
     "metadata": {},
     "output_type": "execute_result"
    }
   ],
   "source": [
    "#Ümumi gəliri hesablayaq\n",
    "df['gelir'] = df['miqdar'] * df['qiymet']\n",
    "df[['mehsul', 'gelir']]"
   ]
  },
  {
   "cell_type": "code",
   "execution_count": 7,
   "id": "4b443ae5-3a6c-4031-b818-8d8e31f7428e",
   "metadata": {},
   "outputs": [
    {
     "data": {
      "text/plain": [
       "bolge\n",
       "Baki        4800\n",
       "Gence       7200\n",
       "Sumqayit    1500\n",
       "Name: gelir, dtype: int64"
      ]
     },
     "execution_count": 7,
     "metadata": {},
     "output_type": "execute_result"
    }
   ],
   "source": [
    "#Hər bölgənin ümumi satış gəliri:\n",
    "df.groupby('bolge')['gelir'].sum()"
   ]
  },
  {
   "cell_type": "code",
   "execution_count": 8,
   "id": "1bee44cb-2dbf-452e-a2dc-a6a17053d57b",
   "metadata": {},
   "outputs": [
    {
     "data": {
      "image/png": "[encoded data removed]",
      "text/plain": [
       "<Figure size 640x480 with 1 Axes>"
      ]
     },
     "metadata": {},
     "output_type": "display_data"
    }
   ],
   "source": [
    "import matplotlib.pyplot as plt\n",
    "\n",
    "df.groupby('mehsul')['gelir'].sum().plot(kind='bar')\n",
    "plt.title('Məhsullara görə gəlir')\n",
    "plt.xlabel('Məhsul')\n",
    "plt.ylabel('Ümumi gəlir')\n",
    "plt.show()\n"
   ]
  }
 ],
 "metadata": {
  "kernelspec": {
   "display_name": "Python [conda env:base] *",
   "language": "python",
   "name": "conda-base-py"
  },
  "language_info": {
   "codemirror_mode": {
    "name": "ipython",
    "version": 3
   },
   "file_extension": ".py",
   "mimetype": "text/x-python",
   "name": "python",
   "nbconvert_exporter": "python",
   "pygments_lexer": "ipython3",
   "version": "3.12.7"
  }
 },
 "nbformat": 4,
 "nbformat_minor": 5
}
